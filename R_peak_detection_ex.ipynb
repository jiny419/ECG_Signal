{
 "cells": [
  {
   "cell_type": "code",
   "execution_count": 2,
   "metadata": {},
   "outputs": [],
   "source": [
    "import numpy as np\n",
    "import pandas as pd\n",
    "import QRS"
   ]
  },
  {
   "cell_type": "code",
   "execution_count": 3,
   "metadata": {},
   "outputs": [],
   "source": [
    "df = pd.read_csv('ex_df.csv')"
   ]
  },
  {
   "cell_type": "code",
   "execution_count": 7,
   "metadata": {},
   "outputs": [],
   "source": [
    "df2 = df[' V1']"
   ]
  },
  {
   "cell_type": "code",
   "execution_count": 8,
   "metadata": {
    "scrolled": true
   },
   "outputs": [
    {
     "data": {
      "text/plain": [
       "(5000,)"
      ]
     },
     "execution_count": 8,
     "metadata": {},
     "output_type": "execute_result"
    }
   ],
   "source": [
    "df2.shape"
   ]
  },
  {
   "cell_type": "code",
   "execution_count": 12,
   "metadata": {},
   "outputs": [
    {
     "data": {
      "text/plain": [
       "0       195\n",
       "1       195\n",
       "2       195\n",
       "3       195\n",
       "4       185\n",
       "       ... \n",
       "4995    107\n",
       "4996     97\n",
       "4997    102\n",
       "4998    107\n",
       "4999    112\n",
       "Name:  V1, Length: 5000, dtype: int64"
      ]
     },
     "execution_count": 12,
     "metadata": {},
     "output_type": "execute_result"
    }
   ],
   "source": [
    "df2"
   ]
  },
  {
   "cell_type": "code",
   "execution_count": 9,
   "metadata": {},
   "outputs": [],
   "source": [
    "import numpy as np \n",
    "import math\n",
    "from numpy import genfromtxt\n",
    "import matplotlib.pyplot as plt\n",
    "\n",
    "def read_ecg(file_name):\n",
    "\treturn genfromtxt(file_name, delimiter=',')\n",
    "\n",
    "def lgth_transform(ecg, ws):\n",
    "\tlgth=ecg.shape[0]\n",
    "\tsqr_diff=np.zeros(lgth)\n",
    "\tdiff=np.zeros(lgth)\n",
    "\tecg=np.pad(ecg, ws, 'edge')\n",
    "\tfor i in range(lgth):\n",
    "\t\ttemp=ecg[i:i+ws+ws+1]\n",
    "\t\tleft=temp[ws]-temp[0]\n",
    "\t\tright=temp[ws]-temp[-1]\n",
    "\t\tdiff[i]=min(left, right)\n",
    "\t\tdiff[diff<0]=0\n",
    "\t# sqr_diff=np.multiply(diff, diff)\n",
    "\t# diff=ecg[:-1]-ecg[1:]\n",
    "\t# sqr_diff[:-1]=np.multiply(diff, diff)\n",
    "\t# sqr_diff[-1]=sqr_diff[-2]\n",
    "\treturn np.multiply(diff, diff)\n",
    "\n",
    "def integrate(ecg, ws):\n",
    "\tlgth=ecg.shape[0]\n",
    "\tintegrate_ecg=np.zeros(lgth)\n",
    "\tecg=np.pad(ecg, math.ceil(ws/2), mode='symmetric')\n",
    "\tfor i in range(lgth):\n",
    "\t\tintegrate_ecg[i]=np.sum(ecg[i:i+ws])/ws\n",
    "\treturn integrate_ecg\n",
    "\n",
    "def find_peak(data, ws):\n",
    "\tlgth=data.shape[0]\n",
    "\ttrue_peaks=list()\n",
    "\tfor i in range(lgth-ws+1):\n",
    "\t\ttemp=data[i:i+ws]\n",
    "\t\tif np.var(temp)<5:\n",
    "\t\t\tcontinue\n",
    "\t\tindex=int((ws-1)/2)\n",
    "\t\tpeak=True\n",
    "\t\tfor j in range(index):\n",
    "\t\t\tif temp[index-j]<=temp[index-j-1] or temp[index+j]<=temp[index+j+1]:\n",
    "\t\t\t\tpeak=False\n",
    "\t\t\t\tbreak\n",
    "\n",
    "\t\tif peak is True:\n",
    "\t\t\ttrue_peaks.append(int(i+(ws-1)/2))\n",
    "\treturn np.asarray(true_peaks)\n",
    "\n",
    "def find_R_peaks(ecg, peaks, ws):\n",
    "\tnum_peak=peaks.shape[0]\n",
    "\tR_peaks=list()\n",
    "\tfor index in range(num_peak):\n",
    "\t\ti=peaks[index]\n",
    "\t\tif i-2*ws>0 and i<ecg.shape[0]:\n",
    "\t\t\ttemp_ecg=ecg[i-2*ws:i]\n",
    "\t\t\tR_peaks.append(int(np.argmax(temp_ecg)+i-2*ws))\n",
    "\treturn np.asarray(R_peaks)\n",
    "\n",
    "def find_S_point(ecg, R_peaks):\n",
    "\tnum_peak=R_peaks.shape[0]\n",
    "\tS_point=list()\n",
    "\tfor index in range(num_peak):\n",
    "\t\ti=R_peaks[index]\n",
    "\t\tcnt=i\n",
    "\t\tif cnt+1>=ecg.shape[0]:\n",
    "\t\t\tbreak\n",
    "\t\twhile ecg[cnt]>ecg[cnt+1]:\n",
    "\t\t\tcnt+=1\n",
    "\t\t\tif cnt>=ecg.shape[0]:\n",
    "\t\t\t\tbreak\n",
    "\t\tS_point.append(cnt)\n",
    "\treturn np.asarray(S_point)\n",
    "\n",
    "\n",
    "def find_Q_point(ecg, R_peaks):\n",
    "\tnum_peak=R_peaks.shape[0]\n",
    "\tQ_point=list()\n",
    "\tfor index in range(num_peak):\n",
    "\t\ti=R_peaks[index]\n",
    "\t\tcnt=i\n",
    "\t\tif cnt-1<0:\n",
    "\t\t\tbreak\n",
    "\t\twhile ecg[cnt]>ecg[cnt-1]:\n",
    "\t\t\tcnt-=1\n",
    "\t\t\tif cnt<0:\n",
    "\t\t\t\tbreak\n",
    "\t\tQ_point.append(cnt)\n",
    "\treturn np.asarray(Q_point)\n",
    "\n",
    "def EKG_QRS_detect(ecg, fs, QS, plot=False):\n",
    "\tsig_lgth=ecg.shape[0]\n",
    "\tecg=ecg-np.mean(ecg)\n",
    "\tecg_lgth_transform=lgth_transform(ecg, int(fs/20))\n",
    "\t# ecg_lgth_transform=lgth_transform(ecg_lgth_transform, int(fs/40))\n",
    "\n",
    "\tws=int(fs/8)\n",
    "\tecg_integrate=integrate(ecg_lgth_transform, ws)/ws\n",
    "\tws=int(fs/6)\n",
    "\tecg_integrate=integrate(ecg_integrate, ws)\n",
    "\tws=int(fs/36)\n",
    "\tecg_integrate=integrate(ecg_integrate, ws)\n",
    "\tws=int(fs/72)\n",
    "\tecg_integrate=integrate(ecg_integrate, ws)\n",
    "\n",
    "\tpeaks=find_peak(ecg_integrate, int(fs/10))\n",
    "\tR_peaks=find_R_peaks(ecg, peaks, int(fs/40))\n",
    "\tif QS:\n",
    "\t\tS_point=find_S_point(ecg, R_peaks)\n",
    "\t\tQ_point=find_Q_point(ecg, R_peaks)\n",
    "\telse:\n",
    "\t\tS_point=None\n",
    "\t\tQ_point=None\n",
    "\tif plot:\n",
    "\t\tindex=np.arange(sig_lgth)/fs\n",
    "\t\tfig, ax=plt.subplots()\n",
    "\t\tax.plot(index, ecg, 'b', label='EKG')\n",
    "\t\tax.plot(R_peaks/fs, ecg[R_peaks], 'ro', label='R peaks')\n",
    "\t\tif QS:\n",
    "\t\t\tax.plot(S_point/fs, ecg[S_point], 'go', label='S')\n",
    "\t\t\tax.plot(Q_point/fs, ecg[Q_point], 'yo', label='Q')\n",
    "\t\tax.set_xlim([0, sig_lgth/fs])\n",
    "\t\tax.set_xlabel('Time [sec]')\n",
    "\t\tax.legend()\n",
    "\t\t# ax[1].plot(ecg_integrate)\n",
    "\t\t# ax[1].set_xlim([0, ecg_integrate.shape[0]])\n",
    "\t\t# ax[2].plot(ecg_lgth_transform)\n",
    "\t\t# ax[2].set_xlim([0, ecg_lgth_transform.shape[0]])\n",
    "\t\tplt.show()\n",
    "\treturn R_peaks, S_point, Q_point"
   ]
  },
  {
   "cell_type": "code",
   "execution_count": 10,
   "metadata": {},
   "outputs": [
    {
     "data": {
      "image/png": "[encoded data removed]",
      "text/plain": [
       "<Figure size 432x288 with 1 Axes>"
      ]
     },
     "metadata": {},
     "output_type": "display_data"
    }
   ],
   "source": [
    "R, S, Q = EKG_QRS_detect(df2, 150, False, True)"
   ]
  },
  {
   "cell_type": "code",
   "execution_count": 11,
   "metadata": {},
   "outputs": [
    {
     "data": {
      "text/plain": [
       "array([ 363,  778, 1206, 1665, 2127, 2569, 2796, 3414, 3817, 4223, 4617])"
      ]
     },
     "execution_count": 11,
     "metadata": {},
     "output_type": "execute_result"
    }
   ],
   "source": [
    "R"
   ]
  },
  {
   "cell_type": "code",
   "execution_count": null,
   "metadata": {},
   "outputs": [],
   "source": []
  }
 ],
 "metadata": {
  "kernelspec": {
   "display_name": "Python 3",
   "language": "python",
   "name": "python3"
  },
  "language_info": {
   "codemirror_mode": {
    "name": "ipython",
    "version": 3
   },
   "file_extension": ".py",
   "mimetype": "text/x-python",
   "name": "python",
   "nbconvert_exporter": "python",
   "pygments_lexer": "ipython3",
   "version": "3.6.5"
  }
 },
 "nbformat": 4,
 "nbformat_minor": 2
}
